{
 "cells": [
  {
   "cell_type": "code",
   "execution_count": 1,
   "id": "ab1cadfb",
   "metadata": {},
   "outputs": [],
   "source": [
    "from urllib.request import urlopen\n",
    "import requests\n",
    "from urllib.request import Request\n",
    "from bs4 import BeautifulSoup \n",
    "import pandas as pd\n",
    "import mysql.connector"
   ]
  },
  {
   "cell_type": "code",
   "execution_count": 2,
   "id": "5581f302",
   "metadata": {},
   "outputs": [],
   "source": [
    "url = 'https://news.google.com/covid19/map?hl=es-419&gl=AR&ceid=AR%3Aes-419'"
   ]
  },
  {
   "cell_type": "code",
   "execution_count": 3,
   "id": "e862f5e9",
   "metadata": {},
   "outputs": [],
   "source": [
    "frase = []\n",
    "response = requests.get(url)   \n",
    "soup = BeautifulSoup(response.content, 'html.parser')\n",
    "texto = soup.find_all('div',attrs={'class','XmCM0b'})\n",
    "for fila in texto[:3]:\n",
    "    fra = fila.text\n",
    "    frase.append(fra)"
   ]
  },
  {
   "cell_type": "code",
   "execution_count": 4,
   "id": "ceca24c2",
   "metadata": {},
   "outputs": [
    {
     "data": {
      "text/plain": [
       "3"
      ]
     },
     "execution_count": 4,
     "metadata": {},
     "output_type": "execute_result"
    }
   ],
   "source": [
    "len(frase)"
   ]
  },
  {
   "cell_type": "code",
   "execution_count": 5,
   "id": "65f63844",
   "metadata": {},
   "outputs": [
    {
     "data": {
      "text/plain": [
       "['Ubicación', 'Total de casos', 'Casos nuevos (1d*)']"
      ]
     },
     "execution_count": 5,
     "metadata": {},
     "output_type": "execute_result"
    }
   ],
   "source": [
    "frase"
   ]
  },
  {
   "cell_type": "code",
   "execution_count": 6,
   "id": "8178c491",
   "metadata": {},
   "outputs": [],
   "source": [
    "paises = []\n",
    "response = requests.get(url)   \n",
    "soup = BeautifulSoup(response.content, 'html.parser')\n",
    "texto = soup.find_all('div',attrs={'class','pcAJd'})\n",
    "for fila in texto:\n",
    "    fra = fila.text\n",
    "    paises.append(fra)"
   ]
  },
  {
   "cell_type": "code",
   "execution_count": 7,
   "id": "87057980",
   "metadata": {},
   "outputs": [
    {
     "data": {
      "text/plain": [
       "['Todos los países',\n",
       " 'Estados Unidos',\n",
       " 'India',\n",
       " 'Francia',\n",
       " 'Alemania',\n",
       " 'Brasil',\n",
       " 'Japón',\n",
       " 'Corea del Sur',\n",
       " 'Italia',\n",
       " 'Reino Unido',\n",
       " 'Rusia',\n",
       " 'Turquía',\n",
       " 'España',\n",
       " 'Vietnam',\n",
       " 'Australia',\n",
       " 'Argentina',\n",
       " 'Taiwán',\n",
       " 'Países Bajos',\n",
       " 'Irán',\n",
       " 'México',\n",
       " 'Indonesia',\n",
       " 'Polonia',\n",
       " 'Colombia',\n",
       " 'Austria',\n",
       " 'Ucrania',\n",
       " 'Portugal',\n",
       " 'Grecia',\n",
       " 'Chile',\n",
       " 'Malasia',\n",
       " 'Israel',\n",
       " 'Tailandia',\n",
       " 'Bélgica',\n",
       " 'Chequia',\n",
       " 'Canadá',\n",
       " 'Perú',\n",
       " 'Suiza',\n",
       " 'Filipinas',\n",
       " 'Sudáfrica',\n",
       " 'Dinamarca',\n",
       " 'Rumanía',\n",
       " 'Hong Kong']"
      ]
     },
     "execution_count": 7,
     "metadata": {},
     "output_type": "execute_result"
    }
   ],
   "source": [
    "paises"
   ]
  },
  {
   "cell_type": "code",
   "execution_count": 8,
   "id": "f1fc8441",
   "metadata": {},
   "outputs": [],
   "source": [
    "t_casos = []\n",
    "response = requests.get(url)   \n",
    "soup = BeautifulSoup(response.content, 'html.parser')\n",
    "texto = soup.find_all('td',attrs={'class','l3HOY'})\n",
    "for fila in texto:\n",
    "    fra = fila.text\n",
    "    t_casos.append(fra)"
   ]
  },
  {
   "cell_type": "code",
   "execution_count": 9,
   "id": "b40f9959",
   "metadata": {},
   "outputs": [
    {
     "data": {
      "text/plain": [
       "205"
      ]
     },
     "execution_count": 9,
     "metadata": {},
     "output_type": "execute_result"
    }
   ],
   "source": [
    "len(t_casos)"
   ]
  },
  {
   "cell_type": "code",
   "execution_count": 10,
   "id": "9713c4dc",
   "metadata": {},
   "outputs": [
    {
     "data": {
      "text/plain": [
       "['669,459,397',\n",
       " '289,369',\n",
       " '',\n",
       " '86,095',\n",
       " '6,797,895',\n",
       " '101,909,009',\n",
       " '113,283',\n",
       " '',\n",
       " '309,231',\n",
       " '1,113,234',\n",
       " '44,683,562',\n",
       " '132',\n",
       " '',\n",
       " '32,843',\n",
       " '530,738',\n",
       " '38,457,851',\n",
       " '5,347',\n",
       " '',\n",
       " '573,347',\n",
       " '160,374',\n",
       " '37,715,000',\n",
       " '13,807',\n",
       " '',\n",
       " '453,582',\n",
       " '165,139',\n",
       " '36,768,677',\n",
       " '17,267',\n",
       " '',\n",
       " '173,981',\n",
       " '696,603',\n",
       " '32,273,196',\n",
       " '79,354',\n",
       " '',\n",
       " '256,238',\n",
       " '66,305',\n",
       " '30,075,652',\n",
       " '35,096',\n",
       " '',\n",
       " '580,829',\n",
       " '33,296',\n",
       " '25,415,630',\n",
       " '0',\n",
       " '',\n",
       " '421,882',\n",
       " '186,488',\n",
       " '24,259,236',\n",
       " '0',\n",
       " '',\n",
       " '365,154',\n",
       " '216,255',\n",
       " '21,601,076',\n",
       " '6,404',\n",
       " '',\n",
       " '147,201',\n",
       " '386,872',\n",
       " '17,042,722',\n",
       " '0',\n",
       " '',\n",
       " '204,951',\n",
       " '101,492',\n",
       " '13,722,677',\n",
       " '0',\n",
       " '',\n",
       " '291,350',\n",
       " '118,183',\n",
       " '11,526,348',\n",
       " '9',\n",
       " '',\n",
       " '119,805',\n",
       " '43,186',\n",
       " '11,274,262',\n",
       " 'Sin datos',\n",
       " '',\n",
       " '439,280',\n",
       " '18,092',\n",
       " '10,032,709',\n",
       " '0',\n",
       " '',\n",
       " '223,253',\n",
       " '130,394',\n",
       " '9,384,996',\n",
       " '16,513',\n",
       " '',\n",
       " '397,597',\n",
       " '16,168',\n",
       " '8,580,420',\n",
       " '0',\n",
       " '',\n",
       " '491,686',\n",
       " '22,990',\n",
       " '7,563,728',\n",
       " '105',\n",
       " '',\n",
       " '90,767',\n",
       " '144,744',\n",
       " '7,348,292',\n",
       " '0',\n",
       " '',\n",
       " '58,054',\n",
       " '331,955',\n",
       " '6,728,676',\n",
       " '274',\n",
       " '',\n",
       " '25,209',\n",
       " '160,795',\n",
       " '6,376,708',\n",
       " '494',\n",
       " '',\n",
       " '166,151',\n",
       " '118,702',\n",
       " '6,348,356',\n",
       " '0',\n",
       " '',\n",
       " '128,520',\n",
       " '142,085',\n",
       " '5,762,898',\n",
       " '3,383',\n",
       " '',\n",
       " '647,328',\n",
       " '21,646',\n",
       " '5,675,976',\n",
       " '38',\n",
       " '',\n",
       " '135,530',\n",
       " '118,927',\n",
       " '5,562,889',\n",
       " '0',\n",
       " '',\n",
       " '541,315',\n",
       " '25,987',\n",
       " '5,548,487',\n",
       " '0',\n",
       " '',\n",
       " '517,361',\n",
       " '34,779',\n",
       " '5,108,929',\n",
       " '2,663',\n",
       " '',\n",
       " '267,382',\n",
       " '63,692',\n",
       " '5,035,205',\n",
       " '132',\n",
       " '',\n",
       " '153,804',\n",
       " '36,933',\n",
       " '4,783,275',\n",
       " '734',\n",
       " '',\n",
       " '521,054',\n",
       " '12,162',\n",
       " '4,726,512',\n",
       " '0',\n",
       " '',\n",
       " '71,088',\n",
       " '33,836',\n",
       " '4,688,927',\n",
       " '0',\n",
       " '',\n",
       " '406,868',\n",
       " '33,525',\n",
       " '4,587,725',\n",
       " '385',\n",
       " '',\n",
       " '429,002',\n",
       " '42,293',\n",
       " '4,556,026',\n",
       " '1,169',\n",
       " '',\n",
       " '119,961',\n",
       " '50,344',\n",
       " '4,479,583',\n",
       " '508',\n",
       " '',\n",
       " '139,414',\n",
       " '218,672',\n",
       " '4,406,243',\n",
       " '0',\n",
       " '',\n",
       " '513,156',\n",
       " '14,244',\n",
       " '4,072,261',\n",
       " '73',\n",
       " '',\n",
       " '37,537',\n",
       " '65,730',\n",
       " '4,054,803',\n",
       " '281',\n",
       " '',\n",
       " '68,989',\n",
       " '102,595',\n",
       " '3,398,828',\n",
       " '153',\n",
       " '',\n",
       " '583,714',\n",
       " '8,108',\n",
       " '3,322,648',\n",
       " '0',\n",
       " '',\n",
       " '171,225',\n",
       " '67,542',\n",
       " '2,864,607',\n",
       " '2,295',\n",
       " '',\n",
       " '381,912',\n",
       " '13,230']"
      ]
     },
     "execution_count": 10,
     "metadata": {},
     "output_type": "execute_result"
    }
   ],
   "source": [
    "t_casos"
   ]
  },
  {
   "cell_type": "code",
   "execution_count": 39,
   "id": "a4efab53",
   "metadata": {},
   "outputs": [
    {
     "ename": "AttributeError",
     "evalue": "ResultSet object has no attribute 'text'. You're probably treating a list of elements like a single element. Did you call find_all() when you meant to call find()?",
     "output_type": "error",
     "traceback": [
      "\u001b[1;31m---------------------------------------------------------------------------\u001b[0m",
      "\u001b[1;31mAttributeError\u001b[0m                            Traceback (most recent call last)",
      "\u001b[1;32m~\\AppData\\Local\\Temp\\ipykernel_9304\\3752800173.py\u001b[0m in \u001b[0;36m<module>\u001b[1;34m\u001b[0m\n\u001b[0;32m      5\u001b[0m \u001b[1;32mfor\u001b[0m \u001b[0mfila\u001b[0m \u001b[1;32min\u001b[0m \u001b[0msoup\u001b[0m\u001b[1;33m.\u001b[0m\u001b[0mfind_all\u001b[0m\u001b[1;33m(\u001b[0m\u001b[1;34m'tr'\u001b[0m\u001b[1;33m)\u001b[0m\u001b[1;33m[\u001b[0m\u001b[1;36m1\u001b[0m\u001b[1;33m:\u001b[0m\u001b[1;33m]\u001b[0m\u001b[1;33m:\u001b[0m\u001b[1;33m\u001b[0m\u001b[1;33m\u001b[0m\u001b[0m\n\u001b[0;32m      6\u001b[0m     \u001b[0mfra\u001b[0m \u001b[1;33m=\u001b[0m \u001b[0mfila\u001b[0m\u001b[1;33m.\u001b[0m\u001b[0mfind_all\u001b[0m\u001b[1;33m(\u001b[0m\u001b[1;34m'td'\u001b[0m\u001b[1;33m)\u001b[0m\u001b[1;33m\u001b[0m\u001b[1;33m\u001b[0m\u001b[0m\n\u001b[1;32m----> 7\u001b[1;33m     \u001b[0mfra\u001b[0m \u001b[1;33m=\u001b[0m \u001b[0mfra\u001b[0m\u001b[1;33m.\u001b[0m\u001b[0mtext\u001b[0m\u001b[1;33m\u001b[0m\u001b[1;33m\u001b[0m\u001b[0m\n\u001b[0m\u001b[0;32m      8\u001b[0m     \u001b[0mt_caso\u001b[0m\u001b[1;33m.\u001b[0m\u001b[0mappend\u001b[0m\u001b[1;33m(\u001b[0m\u001b[0mfra\u001b[0m\u001b[1;33m)\u001b[0m\u001b[1;33m\u001b[0m\u001b[1;33m\u001b[0m\u001b[0m\n",
      "\u001b[1;32m~\\anacondaAldana\\envs\\inteligenciaartificial\\lib\\site-packages\\bs4\\element.py\u001b[0m in \u001b[0;36m__getattr__\u001b[1;34m(self, key)\u001b[0m\n\u001b[0;32m   2287\u001b[0m     \u001b[1;32mdef\u001b[0m \u001b[0m__getattr__\u001b[0m\u001b[1;33m(\u001b[0m\u001b[0mself\u001b[0m\u001b[1;33m,\u001b[0m \u001b[0mkey\u001b[0m\u001b[1;33m)\u001b[0m\u001b[1;33m:\u001b[0m\u001b[1;33m\u001b[0m\u001b[1;33m\u001b[0m\u001b[0m\n\u001b[0;32m   2288\u001b[0m         \u001b[1;34m\"\"\"Raise a helpful exception to explain a common code fix.\"\"\"\u001b[0m\u001b[1;33m\u001b[0m\u001b[1;33m\u001b[0m\u001b[0m\n\u001b[1;32m-> 2289\u001b[1;33m         raise AttributeError(\n\u001b[0m\u001b[0;32m   2290\u001b[0m             \u001b[1;34m\"ResultSet object has no attribute '%s'. You're probably treating a list of elements like a single element. Did you call find_all() when you meant to call find()?\"\u001b[0m \u001b[1;33m%\u001b[0m \u001b[0mkey\u001b[0m\u001b[1;33m\u001b[0m\u001b[1;33m\u001b[0m\u001b[0m\n\u001b[0;32m   2291\u001b[0m         )\n",
      "\u001b[1;31mAttributeError\u001b[0m: ResultSet object has no attribute 'text'. You're probably treating a list of elements like a single element. Did you call find_all() when you meant to call find()?"
     ]
    }
   ],
   "source": [
    "t_caso = []\n",
    "response = requests.get(url)   \n",
    "soup = BeautifulSoup(response.content, 'html.parser')\n",
    "#texto = soup.find_all('tr')[1:]\n",
    "for fila in soup.find_all('tr')[1:]:\n",
    "    fra = fila.find_all('td')\n",
    "    fra = fra.text\n",
    "    t_caso.append(fra)"
   ]
  },
  {
   "cell_type": "code",
   "execution_count": 11,
   "id": "48abdce9",
   "metadata": {},
   "outputs": [
    {
     "ename": "NameError",
     "evalue": "name 't_caso' is not defined",
     "output_type": "error",
     "traceback": [
      "\u001b[1;31m---------------------------------------------------------------------------\u001b[0m",
      "\u001b[1;31mNameError\u001b[0m                                 Traceback (most recent call last)",
      "\u001b[1;32m~\\AppData\\Local\\Temp\\ipykernel_11124\\494489406.py\u001b[0m in \u001b[0;36m<module>\u001b[1;34m\u001b[0m\n\u001b[1;32m----> 1\u001b[1;33m \u001b[0mt_caso\u001b[0m\u001b[1;33m\u001b[0m\u001b[1;33m\u001b[0m\u001b[0m\n\u001b[0m",
      "\u001b[1;31mNameError\u001b[0m: name 't_caso' is not defined"
     ]
    }
   ],
   "source": [
    "t_caso"
   ]
  },
  {
   "cell_type": "code",
   "execution_count": 46,
   "id": "f88efbfa",
   "metadata": {},
   "outputs": [
    {
     "name": "stdout",
     "output_type": "stream",
     "text": [
      "669,161,733 259,422 86,057 6,814,313\n",
      "101,832,120 31,773 308,998 1,112,307\n",
      "44,683,430 102 32,842 530,737\n",
      "38,452,504 6,463 573,268 160,396\n",
      "37,701,193 16,737 453,416 165,001\n",
      "36,751,410 20,497 173,900 696,485\n",
      "32,193,842 93,801 255,608 65,937\n",
      "30,040,556 19,538 580,151 33,270\n",
      "25,415,630 0 421,882 186,488\n",
      "24,259,236 0 365,154 216,255\n",
      "21,594,672 4,664 147,158 386,829\n",
      "17,042,722 0 204,951 101,492\n",
      "13,722,677 0 291,350 118,183\n",
      "11,526,339 7 119,805 43,186\n",
      "11,274,262 Sin datos 439,280 18,092\n",
      "10,032,709 0 223,253 130,394\n",
      "9,368,483 14,858 396,898 16,146\n",
      "8,580,420 828 491,686 22,990\n",
      "7,563,623 118 90,766 144,741\n",
      "7,348,292 5,528 58,054 331,955\n",
      "6,728,402 218 25,208 160,793\n",
      "6,376,214 686 166,138 118,696\n",
      "6,348,356 0 128,520 142,085\n",
      "5,759,515 2,633 646,948 21,640\n",
      "5,675,938 38 135,529 118,926\n",
      "5,562,889 675 541,315 25,987\n",
      "5,548,487 0 517,361 34,779\n",
      "5,106,266 977 267,243 63,689\n",
      "5,035,073 101 153,800 36,932\n",
      "4,782,541 1,178 520,974 12,156\n",
      "4,726,512 0 71,088 33,836\n",
      "4,688,927 0 406,868 33,525\n",
      "4,587,340 513 428,966 42,287\n",
      "4,554,857 1,059 119,931 50,327\n",
      "4,479,075 0 139,399 218,656\n",
      "4,406,243 0 513,156 14,243\n",
      "4,072,188 153 37,536 65,726\n",
      "4,054,522 255 68,984 102,588\n",
      "3,398,675 186 583,688 8,103\n",
      "3,322,648 0 171,225 67,542\n",
      "2,862,312 1,987 381,606 13,203\n"
     ]
    }
   ],
   "source": [
    "response = requests.get(url)   \n",
    "soup = BeautifulSoup(response.content, 'html.parser')\n",
    "#texto = soup.find_all('tr')[1:]\n",
    "for fila in soup.find_all('tr')[1:]:\n",
    "    fra = fila.find_all('td')\n",
    "    print(fra[0].text, fra[1].text, fra[3].text, fra[4].text)"
   ]
  },
  {
   "cell_type": "code",
   "execution_count": null,
   "id": "00217c60",
   "metadata": {},
   "outputs": [],
   "source": [
    "mydb = mysql.connector.connect(\n",
    "    host = 'localhost',\n",
    "    user = 'root',\n",
    "    password = '',\n",
    "    database = 'proyecto'\n",
    ")\n",
    "\n",
    "\n",
    "mycursor = mydb.cursor()\n",
    "\n",
    "sql = \"INSERT INTO Covid19(Productos, Precios) VALUES (%s, %s)\"\n",
    "\n",
    "mycursor.executemany(sql, combinada)\n",
    "\n",
    "mydb.commit()\n",
    "\n",
    "print(mycursor.rowcount, \"FILAS INSERTADAS\")"
   ]
  }
 ],
 "metadata": {
  "kernelspec": {
   "display_name": "Python 3 (ipykernel)",
   "language": "python",
   "name": "python3"
  },
  "language_info": {
   "codemirror_mode": {
    "name": "ipython",
    "version": 3
   },
   "file_extension": ".py",
   "mimetype": "text/x-python",
   "name": "python",
   "nbconvert_exporter": "python",
   "pygments_lexer": "ipython3",
   "version": "3.9.16"
  }
 },
 "nbformat": 4,
 "nbformat_minor": 5
}
